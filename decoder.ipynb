{
 "cells": [
  {
   "cell_type": "code",
   "execution_count": 29,
   "id": "e74633fa-bd6d-49b7-ba58-c3e6e142c3a7",
   "metadata": {
    "tags": []
   },
   "outputs": [],
   "source": [
    "import torch\n",
    "import torchvision\n",
    "from torch.utils.data import Dataset\n",
    "from torchvision import datasets\n",
    "from torchvision.transforms import ToTensor\n",
    "import matplotlib.pyplot as plt\n",
    "from torch import nn\n",
    "from torch.utils.data import DataLoader\n",
    "from torchvision import datasets, transforms"
   ]
  },
  {
   "cell_type": "code",
   "execution_count": 210,
   "id": "ce18f2ab-69b6-4d4e-886e-d2a53d9c7121",
   "metadata": {
    "tags": []
   },
   "outputs": [],
   "source": [
    "N_ = 10 # number of tokens in a sequence\n",
    "d_ = 100 # dimension of token embedding space\n",
    "\n",
    "def positional_encoder(d, N, R = 1000):\n",
    "    \"\"\"\n",
    "    See:\n",
    "        https://kazemnejad.com/blog/transformer_architecture_positional_encoding/\n",
    "        https://en.wikipedia.org/wiki/Transformer_(machine_learning_model). \n",
    "    R should be much larger than d. Wikipedia calls R -> N.\n",
    "    \"\"\"\n",
    "    r = np.power(R,2/d)\n",
    "    ts = torch.range(0,N-1).repeat(int(d/2),1)\n",
    "    ks = torch.transpose(torch.range(0,d/2-1).repeat(N,1), 0,1)\n",
    "    thetas = ts/np.power(r,ks)\n",
    "    return torch.stack(\n",
    "        (torch.sin(thetas),torch.cos(thetas)), dim=1).view(d,N)"
   ]
  },
  {
   "cell_type": "code",
   "execution_count": 216,
   "id": "be0b6ef4-1388-488c-910d-127f55ecc1dd",
   "metadata": {
    "tags": []
   },
   "outputs": [],
   "source": [
    "\n"
   ]
  },
  {
   "cell_type": "code",
   "execution_count": 224,
   "id": "3b30c32d-c675-497f-ba06-0bc9730b48b3",
   "metadata": {
    "tags": []
   },
   "outputs": [],
   "source": [
    "class AttnHead(nn.Module):\n",
    "    def __init__(self, N, M, Mp):\n",
    "        super(self).__init__()\n",
    "        self.WQ = nn.Linear(in_features = M, out_features = M, bias = False)\n",
    "        self.WK = nn.Linear(in_features = M, out_features = M, bias = False)\n",
    "        self.WV = nn.Linear(in_features = M, out_features = Mp, bias = False)\n",
    "        \n",
    "    def create_mask():\n",
    "        \"\"\"\n",
    "        NxN mask that is true for i <= j\n",
    "        \"\"\"\n",
    "        return (torch.range(1,N).repeat(N,1) <= torch.range(1,N).repeat(N,1).transpose(0,1)) \n",
    " \n",
    "    def dot_product_attn(Q, K, V):\n",
    "        \"\"\"\n",
    "        Let \n",
    "            N be the number of tokens in the sequence \n",
    "            M = d, M' positive integers\n",
    "        Q should be NxM\n",
    "        K should be NxM \n",
    "        V should be NXMp\n",
    "        \"\"\"\n",
    "        d = K.shape[-1]\n",
    "        N = Q.shape[0]\n",
    "        return torch.matmul(\n",
    "            torch.nn.Softmax(1)(\n",
    "                torch.matmul(Q, torch.transpose(K,0,1)) / np.sqrt(d)\n",
    "            ) * create_mask(N), \n",
    "            V) \n",
    "        \n",
    "    def forward(self, x):\n",
    "        x = x + positional_encoder(M, N)\n",
    "        Q, K, V = self.WQ(x), self.WK(x), self.WV(x)\n",
    "        return dot_product_attn(Q,K,V)"
   ]
  },
  {
   "cell_type": "code",
   "execution_count": 212,
   "id": "27271cfe-2455-4ae9-9804-39ae15e0e346",
   "metadata": {
    "tags": []
   },
   "outputs": [],
   "source": [
    "d = 7\n",
    "Q = torch.normal(mean = torch.zeros(2,3), std = torch.ones(2,3))\n",
    "K = torch.normal(mean = torch.zeros(2,3), std = torch.ones(2,3))\n",
    "V = torch.normal(mean = torch.zeros(2,3), std = torch.ones(2,3))"
   ]
  },
  {
   "cell_type": "code",
   "execution_count": 221,
   "id": "dac88669-ebc2-480a-889e-3dc1b3528a68",
   "metadata": {
    "tags": []
   },
   "outputs": [
    {
     "name": "stderr",
     "output_type": "stream",
     "text": [
      "/var/folders/07/65yfr7y95sd5nhnx51849p580000gn/T/ipykernel_32969/1907381693.py:5: UserWarning: torch.range is deprecated and will be removed in a future release because its behavior is inconsistent with Python's range builtin. Instead, use torch.arange, which produces values in [start, end).\n",
      "  return (torch.range(1,N).repeat(N,1) <= torch.range(1,N).repeat(N,1).transpose(0,1))\n"
     ]
    },
    {
     "data": {
      "text/plain": [
       "<matplotlib.colorbar.Colorbar at 0x13020b490>"
      ]
     },
     "execution_count": 221,
     "metadata": {},
     "output_type": "execute_result"
    },
    {
     "data": {
      "image/png": "[encoded data removed]",
      "text/plain": [
       "<Figure size 640x480 with 2 Axes>"
      ]
     },
     "metadata": {},
     "output_type": "display_data"
    }
   ],
   "source": [
    "plt.imshow(create_mask(10))\n",
    "plt.colorbar()"
   ]
  },
  {
   "cell_type": "code",
   "execution_count": 171,
   "id": "1c6e9942-5311-4ede-8a12-f05c3e7f0c95",
   "metadata": {
    "tags": []
   },
   "outputs": [
    {
     "data": {
      "text/plain": [
       "tensor([[0.2795, 0.7205],\n",
       "        [0.1499, 0.8501]])"
      ]
     },
     "execution_count": 171,
     "metadata": {},
     "output_type": "execute_result"
    }
   ],
   "source": [
    "torch.nn.Softmax(1)(torch.matmul(Q, torch.transpose(K,0,1)) / np.sqrt(d)) "
   ]
  },
  {
   "cell_type": "code",
   "execution_count": 176,
   "id": "1efa003b-5a74-4ddf-8890-8957268dc1f0",
   "metadata": {
    "tags": []
   },
   "outputs": [
    {
     "data": {
      "text/plain": [
       "tensor([[ 0.6683,  3.1739],\n",
       "        [-2.4948,  2.0967]])"
      ]
     },
     "execution_count": 176,
     "metadata": {},
     "output_type": "execute_result"
    }
   ],
   "source": [
    "torch.matmul(Q, torch.transpose(K,0,1))"
   ]
  },
  {
   "cell_type": "code",
   "execution_count": 26,
   "id": "f437769d-9f50-4380-88ee-5c7bab3c4371",
   "metadata": {
    "tags": []
   },
   "outputs": [
    {
     "data": {
      "text/plain": [
       "3"
      ]
     },
     "execution_count": 26,
     "metadata": {},
     "output_type": "execute_result"
    }
   ],
   "source": [
    "Q.shape[-1]"
   ]
  },
  {
   "cell_type": "code",
   "execution_count": 174,
   "id": "4a92f83a-adbf-4e95-9a5b-d2b0e7409db8",
   "metadata": {
    "tags": []
   },
   "outputs": [],
   "source": [
    "from functools import reduce\n",
    "output = reduce(torch.matmul, [Q, torch.transpose(K,0,1)])"
   ]
  },
  {
   "cell_type": "code",
   "execution_count": 175,
   "id": "d5fb7d26-e23c-43fc-bbc2-d4417e683f6a",
   "metadata": {
    "tags": []
   },
   "outputs": [
    {
     "data": {
      "text/plain": [
       "tensor([[ 0.6683,  3.1739],\n",
       "        [-2.4948,  2.0967]])"
      ]
     },
     "execution_count": 175,
     "metadata": {},
     "output_type": "execute_result"
    }
   ],
   "source": [
    "output"
   ]
  },
  {
   "cell_type": "code",
   "execution_count": 177,
   "id": "14b47b54-578d-454a-9517-1fa802e79d5e",
   "metadata": {
    "tags": []
   },
   "outputs": [
    {
     "data": {
      "text/plain": [
       "tensor([[-0.2845, -0.9007,  1.0853],\n",
       "        [ 0.5305, -1.2809,  0.1880]])"
      ]
     },
     "execution_count": 177,
     "metadata": {},
     "output_type": "execute_result"
    }
   ],
   "source": [
    "V"
   ]
  },
  {
   "cell_type": "code",
   "execution_count": null,
   "id": "6fbcbf3e-e387-49cf-842c-2b4b664c8ff7",
   "metadata": {},
   "outputs": [],
   "source": []
  }
 ],
 "metadata": {
  "kernelspec": {
   "display_name": "Python 3 (ipykernel)",
   "language": "python",
   "name": "python3"
  },
  "language_info": {
   "codemirror_mode": {
    "name": "ipython",
    "version": 3
   },
   "file_extension": ".py",
   "mimetype": "text/x-python",
   "name": "python",
   "nbconvert_exporter": "python",
   "pygments_lexer": "ipython3",
   "version": "3.10.9"
  }
 },
 "nbformat": 4,
 "nbformat_minor": 5
}
